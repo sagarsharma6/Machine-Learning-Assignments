{
 "cells": [
  {
   "cell_type": "code",
   "execution_count": 1,
   "metadata": {},
   "outputs": [
    {
     "name": "stdout",
     "output_type": "stream",
     "text": [
      "0.0303030303030303\n"
     ]
    }
   ],
   "source": [
    "#Ques 1\n",
    "\n",
    "def probability(x,y,z):\n",
    "    result=(z*y)/x\n",
    "    return result\n",
    "x=11/36\n",
    "y=6/36\n",
    "z=2/36\n",
    "print(probability(x,y,z))"
   ]
  },
  {
   "cell_type": "code",
   "execution_count": 3,
   "metadata": {},
   "outputs": [
    {
     "name": "stdout",
     "output_type": "stream",
     "text": [
      "0.5833333333333334\n"
     ]
    }
   ],
   "source": [
    "#Ques 2\n",
    "\n",
    "white1= 4\n",
    "black1 = 6\n",
    "white2 = 4\n",
    "black2 = 3\n",
    "p1=1/2 \n",
    "p2=1/2 \n",
    "b2=3/7 \n",
    "b1=6/10 \n",
    "\n",
    "# since drawn ball is black,to find it is of 1st bag\n",
    "probability=(b1*p1)/((p1*b1)+(p2*b2))\n",
    "print(probability)"
   ]
  },
  {
   "cell_type": "code",
   "execution_count": 1,
   "metadata": {},
   "outputs": [
    {
     "name": "stdout",
     "output_type": "stream",
     "text": [
      "0.2857142857142857\n"
     ]
    }
   ],
   "source": [
    "#Ques 3\n",
    "\n",
    "p1=1/6\n",
    "p2=5/6\n",
    "p3=2/3\n",
    "p4=1/3\n",
    "probability=(p1*p3)/((p1*p3)+(p2*p4))\n",
    "print(probability)"
   ]
  },
  {
   "cell_type": "code",
   "execution_count": null,
   "metadata": {},
   "outputs": [],
   "source": []
  }
 ],
 "metadata": {
  "kernelspec": {
   "display_name": "Python 3",
   "language": "python",
   "name": "python3"
  },
  "language_info": {
   "codemirror_mode": {
    "name": "ipython",
    "version": 3
   },
   "file_extension": ".py",
   "mimetype": "text/x-python",
   "name": "python",
   "nbconvert_exporter": "python",
   "pygments_lexer": "ipython3",
   "version": "3.6.5"
  }
 },
 "nbformat": 4,
 "nbformat_minor": 2
}
